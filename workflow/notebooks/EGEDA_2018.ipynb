{
 "cells": [
  {
   "cell_type": "markdown",
   "metadata": {},
   "source": [
    "# EGEDA cleaning script"
   ]
  },
  {
   "cell_type": "markdown",
   "metadata": {},
   "source": [
    "### For cleaning the EGEDA data sent by Edito: EGEDA_2018.xlsx"
   ]
  },
  {
   "source": [
    "import numpy as np\n",
    "import pandas as pd\n",
    "from collections import OrderedDict\n",
    "import re"
   ],
   "cell_type": "code",
   "metadata": {},
   "execution_count": 89,
   "outputs": []
  },
  {
   "cell_type": "code",
   "execution_count": 90,
   "metadata": {},
   "outputs": [],
   "source": [
    "# read raw data\n",
    "\n",
    "RawEGEDA = pd.read_excel('../../data/EGEDA_2018.xlsx',\n",
    "                         sheet_name = None,\n",
    "                         na_values = ['x', 'X', '']) # I don't think there's any x's or X's in the EGEDA xlsx file, but leaving as is (shouldn't make a difference)"
   ]
  },
  {
   "cell_type": "code",
   "execution_count": 91,
   "metadata": {},
   "outputs": [
    {
     "output_type": "execute_result",
     "data": {
      "text/plain": [
       "dict_keys(['APEC', '01_AUS', '02_BD', '03_CDA', '04_CHL', '05_PRC', '06_HKC', '07_INA', '08_JPN', '09_ROK', '10_MAS', '11_MEX', '12_NZ', '13_PNG', '14_PE', '15_RP', '16_RUS', '17_SIN', '18_CT', '19_THA', '20_USA', '21_VN', '22_SEA', '23_NEA', '24_OAM', '25_OCE', '23b_ONEA', '24b_OOAM'])"
      ]
     },
     "metadata": {},
     "execution_count": 91
    }
   ],
   "source": [
    "RawEGEDA.keys()"
   ]
  },
  {
   "cell_type": "code",
   "execution_count": 92,
   "metadata": {},
   "outputs": [],
   "source": [
    "years = list(range(1980, 2019, 1))"
   ]
  },
  {
   "cell_type": "code",
   "execution_count": 93,
   "metadata": {},
   "outputs": [],
   "source": [
    "df_list = []\n",
    "\n",
    "economies = RawEGEDA.keys()\n",
    "\n",
    "for economy in economies:\n",
    "    _df_economy = RawEGEDA[economy]\n",
    "    _df = pd.melt(_df_economy, \n",
    "                  id_vars = ['Product Code', 'Item Code'], \n",
    "                  value_vars = years, \n",
    "                  var_name = 'year',\n",
    "                  value_name = 'value'\n",
    "                )\n",
    "    #_df = _df.pivot_table(index=['Year','Product Code'],columns='Item Code',values='Value')\n",
    "    _df['economy'] = economy\n",
    "    _df = _df.set_index(['economy', 'year'])\n",
    "    df_list.append(_df)\n",
    "\n",
    "df = pd.concat(df_list)    "
   ]
  },
  {
   "cell_type": "code",
   "execution_count": 94,
   "metadata": {},
   "outputs": [],
   "source": [
    "df.columns = [c.replace(' ', '_') for c in df.columns]\n",
    "df.columns = map(str.lower, df.columns)\n",
    "\n",
    "# And remove multiple spaces from variables\n",
    "df['product_code'] = df['product_code'].replace('\\s+', ' ', regex = True)\n",
    "df['item_code'] = df['item_code'].replace('\\s+', ' ', regex = True)"
   ]
  },
  {
   "cell_type": "markdown",
   "metadata": {},
   "source": [
    "## Change product code and item code names"
   ]
  },
  {
   "cell_type": "code",
   "execution_count": 95,
   "metadata": {},
   "outputs": [],
   "source": [
    "df['fuel_code'] = df['product_code']\n",
    "df['item_code_new'] = df['item_code']\n",
    "\n",
    "# new fuel_code\n",
    "df['fuel_code'] = df['fuel_code'].str.lower()\n",
    "df['fuel_code'] = df['fuel_code'].str.replace(' ', '_').str.replace('.', '_').str.replace('/', '_').str.replace('(', '').str.replace(')', '').str.replace('-', '') \\\n",
    ".str.replace(',', '').str.replace('&', 'and').str.replace('__', '_').str.replace(':', '').str.rstrip('_')\n",
    "\n",
    "# item_code_new\n",
    "df['item_code_new'] = df['item_code_new'].str.lower()\n",
    "df['item_code_new'] = df['item_code_new'].str.replace(' ', '_').str.replace('.', '_').str.replace('/', '_').str.replace('(', '').str.replace(')', '').str.replace('-', '') \\\n",
    ".str.replace(',', '').str.replace('&', 'and').str.replace('__', '_').str.rstrip('_')"
   ]
  },
  {
   "cell_type": "code",
   "execution_count": 96,
   "metadata": {},
   "outputs": [],
   "source": [
    "# list(df.loc[:,'fuel_code'].unique())"
   ]
  },
  {
   "cell_type": "code",
   "execution_count": 97,
   "metadata": {},
   "outputs": [],
   "source": [
    "# Remove duplicate columns\n",
    "\n",
    "df = df[['fuel_code', 'item_code_new', 'value']]"
   ]
  },
  {
   "cell_type": "code",
   "execution_count": 99,
   "metadata": {},
   "outputs": [],
   "source": [
    "# Input thermal coal variable/subtotal\n",
    "\n",
    "thermal_df = df[df['fuel_code'].isin(['1_2_other_bituminous_coal', '1_3_subbituminous_coal', '1_4_anthracite', '3_peat','4_peat_products'])]\n",
    "assert thermal_df.value.isna().sum() == 0\n",
    "\n",
    "df1 = thermal_df.groupby(['economy', 'year', 'item_code_new'])['value'].sum().reset_index().assign(fuel_code = '1_x_coal_thermal').set_index(['economy', 'year']).append(df)"
   ]
  },
  {
   "cell_type": "code",
   "execution_count": 100,
   "metadata": {},
   "outputs": [],
   "source": [
    "# And also insert NGL aggregate variable\n",
    "\n",
    "NGL_df = df1[df1['fuel_code'].isin(['6_2_natural_gas_liquids', '6_3_refinery_feedstocks', '6_4_additives_oxygenates', '6_5_other_hydrocarbons'])]\n",
    "\n",
    "assert NGL_df.value.isna().sum() == 0\n",
    "\n",
    "df2 = NGL_df.groupby(['economy', 'year', 'item_code_new'])['value'].sum().reset_index().assign(fuel_code = '6_x_ngls').set_index(['economy', 'year']).append(df1)"
   ]
  },
  {
   "cell_type": "code",
   "execution_count": null,
   "metadata": {},
   "outputs": [],
   "source": [
    "# And also insert NGL aggregate variable\n",
    "\n",
    "otherpet_df = df2[df2['fuel_code'].isin(['7_12_white_spirit_sbp', '7_13_lubricants', '7_14_bitumen', '7_15_paraffin_waxes', '7_16_petroleum_coke', '7_17_other_products'])]\n",
    "\n",
    "assert otherpet_df.value.isna().sum() == 0\n",
    "\n",
    "df3 = otherpet_df.groupby(['economy', 'year', 'item_code_new'])['value'].sum().reset_index().assign(fuel_code = '7_x_other_petroleum_products').set_index(['economy', 'year']).append(df2)"
   ]
  },
  {
   "cell_type": "code",
   "execution_count": 101,
   "metadata": {},
   "outputs": [],
   "source": [
    "# Before changing ktoe to PJ, remove rows with data in Gwh\n",
    "\n",
    "gwh_to_pj_df = df3[df3['item_code_new'] == '18_electricity_output_in_gwh']\n",
    "everything_else_df = df3[df3['item_code_new'] != '18_electricity_output_in_gwh']\n",
    "\n",
    "gwh_to_pj_conversion = 0.0036\n",
    "\n",
    "# electricity gwh data changed to pj\n",
    " \n",
    "gwh_to_pj_df = gwh_to_pj_df.assign(pj = np.multiply(gwh_to_pj_df['value'], gwh_to_pj_conversion))  \n",
    "gwh_to_pj_df['item_code_new'] = '18_electricity_output_in_pj'\n",
    "\n",
    "gwh_to_pj_df.columns = ['item_code_new', 'value', 'fuel_code', 'pj']\n",
    "gwh_to_pj_df = gwh_to_pj_df[['fuel_code', 'item_code_new', 'pj']]\n",
    "\n",
    "# Change value column (PJs) to 'pj' same as newly created column in dataframe above that converts ktoe to pj\n",
    "everything_else_df.columns = ['item_code_new', 'pj', 'fuel_code']\n",
    "everything_else_df = everything_else_df[['fuel_code', 'item_code_new', 'pj']]"
   ]
  },
  {
   "cell_type": "code",
   "execution_count": 102,
   "metadata": {},
   "outputs": [],
   "source": [
    "# Now append df_pj to gwh_pj_df (so all data is now in PJ)\n",
    "\n",
    "df = everything_else_df.append(gwh_to_pj_df)"
   ]
  },
  {
   "cell_type": "code",
   "execution_count": 103,
   "metadata": {},
   "outputs": [],
   "source": [
    "df_tidy = df.reset_index()"
   ]
  },
  {
   "cell_type": "code",
   "execution_count": 104,
   "metadata": {},
   "outputs": [
    {
     "output_type": "execute_result",
     "data": {
      "text/plain": [
       "                    fuel_code                     item_code_new\n",
       "0                      1_coal           1_indigenous_production\n",
       "1            1_x_coal_thermal                         2_imports\n",
       "2             1_1_coking_coal                         3_exports\n",
       "3   1_2_other_bituminous_coal    4_international_marine_bunkers\n",
       "4      1_3_subbituminous_coal  5_international_aviation_bunkers\n",
       "..                        ...                               ...\n",
       "90                        NaN              17_2_industry_sector\n",
       "91                        NaN             17_3_transport_sector\n",
       "92                        NaN                 17_4_other_sector\n",
       "93                        NaN       18_electricity_output_in_pj\n",
       "94                        NaN              19_heat_output_in_pj\n",
       "\n",
       "[95 rows x 2 columns]"
      ],
      "text/html": "<div>\n<style scoped>\n    .dataframe tbody tr th:only-of-type {\n        vertical-align: middle;\n    }\n\n    .dataframe tbody tr th {\n        vertical-align: top;\n    }\n\n    .dataframe thead th {\n        text-align: right;\n    }\n</style>\n<table border=\"1\" class=\"dataframe\">\n  <thead>\n    <tr style=\"text-align: right;\">\n      <th></th>\n      <th>fuel_code</th>\n      <th>item_code_new</th>\n    </tr>\n  </thead>\n  <tbody>\n    <tr>\n      <th>0</th>\n      <td>1_coal</td>\n      <td>1_indigenous_production</td>\n    </tr>\n    <tr>\n      <th>1</th>\n      <td>1_x_coal_thermal</td>\n      <td>2_imports</td>\n    </tr>\n    <tr>\n      <th>2</th>\n      <td>1_1_coking_coal</td>\n      <td>3_exports</td>\n    </tr>\n    <tr>\n      <th>3</th>\n      <td>1_2_other_bituminous_coal</td>\n      <td>4_international_marine_bunkers</td>\n    </tr>\n    <tr>\n      <th>4</th>\n      <td>1_3_subbituminous_coal</td>\n      <td>5_international_aviation_bunkers</td>\n    </tr>\n    <tr>\n      <th>...</th>\n      <td>...</td>\n      <td>...</td>\n    </tr>\n    <tr>\n      <th>90</th>\n      <td>NaN</td>\n      <td>17_2_industry_sector</td>\n    </tr>\n    <tr>\n      <th>91</th>\n      <td>NaN</td>\n      <td>17_3_transport_sector</td>\n    </tr>\n    <tr>\n      <th>92</th>\n      <td>NaN</td>\n      <td>17_4_other_sector</td>\n    </tr>\n    <tr>\n      <th>93</th>\n      <td>NaN</td>\n      <td>18_electricity_output_in_pj</td>\n    </tr>\n    <tr>\n      <th>94</th>\n      <td>NaN</td>\n      <td>19_heat_output_in_pj</td>\n    </tr>\n  </tbody>\n</table>\n<p>95 rows × 2 columns</p>\n</div>"
     },
     "metadata": {},
     "execution_count": 104
    }
   ],
   "source": [
    "# Load correct order of fuel code and item code. Update this csv based on new entries or desired order\n",
    "\n",
    "ordered = pd.read_csv('../../data/order_2018.csv')\n",
    "# ordered"
   ]
  },
  {
   "cell_type": "markdown",
   "metadata": {},
   "source": [
    "## Reorder fuel code and item code"
   ]
  },
  {
   "cell_type": "code",
   "execution_count": 105,
   "metadata": {},
   "outputs": [],
   "source": [
    "# This grabs the unique values of fuel_code and item_code_new in the order they appear in the original dataframe. It removes 'na' by calling '[:-1]' \n",
    "\n",
    "order1 = list(ordered['fuel_code'].unique())[:-1]\n",
    "order2 = list(ordered['item_code_new'])\n",
    "\n",
    "# Take order defined above and define each of the variables as categorical in that already established order (for the benefit of viewing data later)\n",
    "\n",
    "df_tidy['fuel_code'] = pd.Categorical(df_tidy['fuel_code'], \n",
    "                                      categories = order1, \n",
    "                                      ordered = True)\n",
    "\n",
    "df_tidy['item_code_new'] = pd.Categorical(df_tidy['item_code_new'],\n",
    "                                          categories = order2,\n",
    "                                          ordered = True)"
   ]
  },
  {
   "cell_type": "code",
   "execution_count": 106,
   "metadata": {},
   "outputs": [
    {
     "output_type": "execute_result",
     "data": {
      "text/plain": [
       "         economy  year               fuel_code            item_code_new  \\\n",
       "419328      APEC  1980  1_3_subbituminous_coal  1_indigenous_production   \n",
       "419329      APEC  1981  1_3_subbituminous_coal  1_indigenous_production   \n",
       "419330      APEC  1982  1_3_subbituminous_coal  1_indigenous_production   \n",
       "419331      APEC  1983  1_3_subbituminous_coal  1_indigenous_production   \n",
       "419332      APEC  1984  1_3_subbituminous_coal  1_indigenous_production   \n",
       "...          ...   ...                     ...                      ...   \n",
       "524155  24b_OOAM  2014  1_3_subbituminous_coal                      NaN   \n",
       "524156  24b_OOAM  2015  1_3_subbituminous_coal                      NaN   \n",
       "524157  24b_OOAM  2016  1_3_subbituminous_coal                      NaN   \n",
       "524158  24b_OOAM  2017  1_3_subbituminous_coal                      NaN   \n",
       "524159  24b_OOAM  2018  1_3_subbituminous_coal                      NaN   \n",
       "\n",
       "                 pj  \n",
       "419328  3161.120541  \n",
       "419329  3266.929560  \n",
       "419330  3318.013461  \n",
       "419331  3214.534228  \n",
       "419332  3736.259582  \n",
       "...             ...  \n",
       "524155  -226.149709  \n",
       "524156  -234.157843  \n",
       "524157  -226.787777  \n",
       "524158  -157.520144  \n",
       "524159  -157.681126  \n",
       "\n",
       "[104832 rows x 5 columns]"
      ],
      "text/html": "<div>\n<style scoped>\n    .dataframe tbody tr th:only-of-type {\n        vertical-align: middle;\n    }\n\n    .dataframe tbody tr th {\n        vertical-align: top;\n    }\n\n    .dataframe thead th {\n        text-align: right;\n    }\n</style>\n<table border=\"1\" class=\"dataframe\">\n  <thead>\n    <tr style=\"text-align: right;\">\n      <th></th>\n      <th>economy</th>\n      <th>year</th>\n      <th>fuel_code</th>\n      <th>item_code_new</th>\n      <th>pj</th>\n    </tr>\n  </thead>\n  <tbody>\n    <tr>\n      <th>419328</th>\n      <td>APEC</td>\n      <td>1980</td>\n      <td>1_3_subbituminous_coal</td>\n      <td>1_indigenous_production</td>\n      <td>3161.120541</td>\n    </tr>\n    <tr>\n      <th>419329</th>\n      <td>APEC</td>\n      <td>1981</td>\n      <td>1_3_subbituminous_coal</td>\n      <td>1_indigenous_production</td>\n      <td>3266.929560</td>\n    </tr>\n    <tr>\n      <th>419330</th>\n      <td>APEC</td>\n      <td>1982</td>\n      <td>1_3_subbituminous_coal</td>\n      <td>1_indigenous_production</td>\n      <td>3318.013461</td>\n    </tr>\n    <tr>\n      <th>419331</th>\n      <td>APEC</td>\n      <td>1983</td>\n      <td>1_3_subbituminous_coal</td>\n      <td>1_indigenous_production</td>\n      <td>3214.534228</td>\n    </tr>\n    <tr>\n      <th>419332</th>\n      <td>APEC</td>\n      <td>1984</td>\n      <td>1_3_subbituminous_coal</td>\n      <td>1_indigenous_production</td>\n      <td>3736.259582</td>\n    </tr>\n    <tr>\n      <th>...</th>\n      <td>...</td>\n      <td>...</td>\n      <td>...</td>\n      <td>...</td>\n      <td>...</td>\n    </tr>\n    <tr>\n      <th>524155</th>\n      <td>24b_OOAM</td>\n      <td>2014</td>\n      <td>1_3_subbituminous_coal</td>\n      <td>NaN</td>\n      <td>-226.149709</td>\n    </tr>\n    <tr>\n      <th>524156</th>\n      <td>24b_OOAM</td>\n      <td>2015</td>\n      <td>1_3_subbituminous_coal</td>\n      <td>NaN</td>\n      <td>-234.157843</td>\n    </tr>\n    <tr>\n      <th>524157</th>\n      <td>24b_OOAM</td>\n      <td>2016</td>\n      <td>1_3_subbituminous_coal</td>\n      <td>NaN</td>\n      <td>-226.787777</td>\n    </tr>\n    <tr>\n      <th>524158</th>\n      <td>24b_OOAM</td>\n      <td>2017</td>\n      <td>1_3_subbituminous_coal</td>\n      <td>NaN</td>\n      <td>-157.520144</td>\n    </tr>\n    <tr>\n      <th>524159</th>\n      <td>24b_OOAM</td>\n      <td>2018</td>\n      <td>1_3_subbituminous_coal</td>\n      <td>NaN</td>\n      <td>-157.681126</td>\n    </tr>\n  </tbody>\n</table>\n<p>104832 rows × 5 columns</p>\n</div>"
     },
     "metadata": {},
     "execution_count": 106
    }
   ],
   "source": [
    "df_tidy_sorted = df_tidy.sort_values(['fuel_code', 'item_code_new']).reset_index(drop = True)\n",
    "# df_tidy_sorted[df_tidy_sorted['fuel_code'] == '1_3_subbituminous_coal'] #1_1_3_subbituminous_coal"
   ]
  },
  {
   "cell_type": "markdown",
   "metadata": {},
   "source": [
    "### Now, pivot the tidy dataset to provide it in wide format similar to RawEGEDA (so years are across the top)"
   ]
  },
  {
   "cell_type": "code",
   "execution_count": 107,
   "metadata": {},
   "outputs": [],
   "source": [
    "df_years = df_tidy_sorted.pivot_table(index = ['economy', 'fuel_code', 'item_code_new'], columns = 'year', values = 'pj').reset_index(drop = False)"
   ]
  },
  {
   "cell_type": "code",
   "execution_count": 108,
   "metadata": {},
   "outputs": [],
   "source": [
    "df_years.to_csv(\"../../results/EGEDA_2018_years.csv\", index = False)"
   ]
  },
  {
   "cell_type": "code",
   "execution_count": 109,
   "metadata": {},
   "outputs": [],
   "source": [
    "# df_years.to_excel(\"../../results/EGEDA_2018_years.xlsx\", index = False)"
   ]
  },
  {
   "cell_type": "markdown",
   "metadata": {},
   "source": [
    "## And now pivot so item codes are along the top"
   ]
  },
  {
   "cell_type": "code",
   "execution_count": 110,
   "metadata": {},
   "outputs": [],
   "source": [
    "df_items = df_tidy_sorted\n",
    "df_items['item_code_new'] = df_items['item_code_new'].astype(str)\n",
    "\n",
    "df_items = df_items.pivot_table(index = ['economy', 'fuel_code', 'year'], columns = 'item_code_new', values = 'pj').reset_index()\n",
    "\n",
    "# Reorder columns based on order2 defined above\n",
    "\n",
    "NewOrder = ['economy', 'fuel_code', 'year']\n",
    "NewOrder.extend(order2) \n",
    "\n",
    "df_items = df_items[NewOrder]"
   ]
  },
  {
   "cell_type": "code",
   "execution_count": 111,
   "metadata": {},
   "outputs": [],
   "source": [
    "df_items.to_csv(\"../../results/EGEDA_2018_items.csv\", index = False)"
   ]
  },
  {
   "cell_type": "code",
   "execution_count": 112,
   "metadata": {},
   "outputs": [],
   "source": [
    "# df_items.to_excel(\"../../results/EGEDA_2018_items.xlsx\", index = False)"
   ]
  }
 ],
 "metadata": {
  "kernelspec": {
   "display_name": "Python 3",
   "language": "python",
   "name": "python3"
  },
  "language_info": {
   "codemirror_mode": {
    "name": "ipython",
    "version": 3
   },
   "file_extension": ".py",
   "mimetype": "text/x-python",
   "name": "python",
   "nbconvert_exporter": "python",
   "pygments_lexer": "ipython3",
   "version": "3.7.7-final"
  }
 },
 "nbformat": 4,
 "nbformat_minor": 4
}