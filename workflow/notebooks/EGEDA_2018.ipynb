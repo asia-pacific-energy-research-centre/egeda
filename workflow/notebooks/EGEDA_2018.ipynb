{
 "cells": [
  {
   "cell_type": "markdown",
   "metadata": {},
   "source": [
    "# EGEDA cleaning script"
   ]
  },
  {
   "cell_type": "markdown",
   "metadata": {},
   "source": [
    "### For cleaning the EGEDA data sent by Edito: EGEDA_2018.xlsx"
   ]
  },
  {
   "source": [
    "import numpy as np\n",
    "import pandas as pd\n",
    "from collections import OrderedDict\n",
    "import re"
   ],
   "cell_type": "code",
   "metadata": {},
   "execution_count": 1,
   "outputs": []
  },
  {
   "cell_type": "code",
   "execution_count": 2,
   "metadata": {},
   "outputs": [],
   "source": [
    "# read raw data\n",
    "\n",
    "RawEGEDA = pd.read_excel('../../data/00APEC Total_15Jan2021.xlsx',\n",
    "                         sheet_name = None,\n",
    "                         na_values = ['x', 'X', '']) # I don't think there's any x's or X's in the EGEDA xlsx file, but leaving as is (shouldn't make a difference)"
   ]
  },
  {
   "cell_type": "code",
   "execution_count": 3,
   "metadata": {},
   "outputs": [
    {
     "output_type": "execute_result",
     "data": {
      "text/plain": [
       "dict_keys(['APEC', '01_AUS', '02_BD', '03_CDA', '04_CHL', '05_PRC', '06_HKC', '07_INA', '08_JPN', '09_ROK', '10_MAS', '11_MEX', '12_NZ', '13_PNG', '14_PE', '15_RP', '16_RUS', '17_SIN', '18_CT', '19_THA', '20_USA', '21_VN', '22_SEA', '23_NEA', '24_OAM', '25_OCE', '23b_ONEA', '24b_OOAM'])"
      ]
     },
     "metadata": {},
     "execution_count": 3
    }
   ],
   "source": [
    "RawEGEDA.keys()"
   ]
  },
  {
   "cell_type": "code",
   "execution_count": 4,
   "metadata": {},
   "outputs": [],
   "source": [
    "years = list(range(1980, 2019, 1))"
   ]
  },
  {
   "cell_type": "code",
   "execution_count": 5,
   "metadata": {},
   "outputs": [],
   "source": [
    "df_list = []\n",
    "\n",
    "economies = RawEGEDA.keys()\n",
    "\n",
    "for economy in economies:\n",
    "    _df_economy = RawEGEDA[economy]\n",
    "    _df = pd.melt(_df_economy, \n",
    "                  id_vars = ['Product Code', 'Item Code'], \n",
    "                  value_vars = years, \n",
    "                  var_name = 'year',\n",
    "                  value_name = 'value'\n",
    "                )\n",
    "    #_df = _df.pivot_table(index=['Year','Product Code'],columns='Item Code',values='Value')\n",
    "    _df['economy'] = economy\n",
    "    _df = _df.set_index(['economy', 'year'])\n",
    "    df_list.append(_df)\n",
    "\n",
    "df = pd.concat(df_list)    "
   ]
  },
  {
   "cell_type": "code",
   "execution_count": 6,
   "metadata": {},
   "outputs": [],
   "source": [
    "df.columns = [c.replace(' ', '_') for c in df.columns]\n",
    "df.columns = map(str.lower, df.columns)\n",
    "\n",
    "# And remove multiple spaces from variables\n",
    "df['product_code'] = df['product_code'].replace('\\s+', ' ', regex = True)\n",
    "df['item_code'] = df['item_code'].replace('\\s+', ' ', regex = True)"
   ]
  },
  {
   "cell_type": "markdown",
   "metadata": {},
   "source": [
    "## Change product code and item code names"
   ]
  },
  {
   "cell_type": "code",
   "execution_count": 7,
   "metadata": {},
   "outputs": [],
   "source": [
    "df['fuel_code'] = df['product_code']\n",
    "df['item_code_new'] = df['item_code']\n",
    "\n",
    "# new fuel_code\n",
    "df['fuel_code'] = df['fuel_code'].str.lower()\n",
    "df['fuel_code'] = df['fuel_code'].str.replace(' ', '_').str.replace('.', '_').str.replace('/', '_').str.replace('(', '').str.replace(')', '').str.replace('-', '') \\\n",
    ".str.replace(',', '').str.replace('&', 'and').str.replace('__', '_').str.replace(':', '').str.rstrip('_')\n",
    "\n",
    "# item_code_new\n",
    "df['item_code_new'] = df['item_code_new'].str.lower()\n",
    "df['item_code_new'] = df['item_code_new'].str.replace(' ', '_').str.replace('.', '_').str.replace('/', '_').str.replace('(', '').str.replace(')', '').str.replace('-', '') \\\n",
    ".str.replace(',', '').str.replace('&', 'and').str.replace('__', '_').str.rstrip('_')"
   ]
  },
  {
   "cell_type": "code",
   "execution_count": 8,
   "metadata": {},
   "outputs": [],
   "source": [
    "# list(df.loc[:,'fuel_code'].unique())"
   ]
  },
  {
   "cell_type": "code",
   "execution_count": 9,
   "metadata": {},
   "outputs": [],
   "source": [
    "# Remove duplicate columns\n",
    "\n",
    "df = df[['fuel_code', 'item_code_new', 'value']]"
   ]
  },
  {
   "cell_type": "code",
   "execution_count": 10,
   "metadata": {},
   "outputs": [],
   "source": [
    "# Input thermal coal variable/subtotal\n",
    "\n",
    "thermal_df = df[df['fuel_code'].isin(['1_2_other_bituminous_coal', '1_3_subbituminous_coal', '1_4_anthracite', '3_peat', '4_peat_products'])]\n",
    "assert thermal_df.value.isna().sum() == 0\n",
    "\n",
    "df1 = thermal_df.groupby(['economy', 'year', 'item_code_new'])['value'].sum().reset_index().assign(fuel_code = '1_x_coal_thermal').set_index(['economy', 'year']).append(df)"
   ]
  },
  {
   "cell_type": "code",
   "execution_count": 11,
   "metadata": {},
   "outputs": [],
   "source": [
    "# And also insert NGL aggregate variable\n",
    "\n",
    "NGL_df = df1[df1['fuel_code'].isin(['6_2_natural_gas_liquids', '6_3_refinery_feedstocks', '6_4_additives_oxygenates', '6_5_other_hydrocarbons'])]\n",
    "\n",
    "assert NGL_df.value.isna().sum() == 0\n",
    "\n",
    "df2 = NGL_df.groupby(['economy', 'year', 'item_code_new'])['value'].sum().reset_index().assign(fuel_code = '6_x_ngls').set_index(['economy', 'year']).append(df1)"
   ]
  },
  {
   "cell_type": "code",
   "execution_count": 12,
   "metadata": {},
   "outputs": [],
   "source": [
    "# And also insert NGL aggregate variable\n",
    "\n",
    "otherpet_df = df2[df2['fuel_code'].isin(['7_12_white_spirit_sbp', '7_13_lubricants', '7_14_bitumen', '7_15_paraffin_waxes', '7_16_petroleum_coke', '7_17_other_products'])]\n",
    "\n",
    "assert otherpet_df.value.isna().sum() == 0\n",
    "\n",
    "df3 = otherpet_df.groupby(['economy', 'year', 'item_code_new'])['value'].sum().reset_index().assign(fuel_code = '7_x_other_petroleum_products').set_index(['economy', 'year']).append(df2)"
   ]
  },
  {
   "cell_type": "code",
   "execution_count": 13,
   "metadata": {},
   "outputs": [],
   "source": [
    "# Now jet fuel aggregate variable\n",
    "\n",
    "jetfuel_df = df3[df3['fuel_code'].isin(['7_4_gasoline_type_jet_fuel', '7_5_kerosene_type_jet_fuel'])]\n",
    "\n",
    "assert jetfuel_df.value.isna().sum() == 0\n",
    "\n",
    "df4 = jetfuel_df.groupby(['economy', 'year', 'item_code_new'])['value'].sum().reset_index().assign(fuel_code = '7_x_jet_fuel').set_index(['economy', 'year']).append(df3)"
   ]
  },
  {
   "cell_type": "code",
   "execution_count": 14,
   "metadata": {},
   "outputs": [],
   "source": [
    "# # New solar difference variable\n",
    "\n",
    "# new_solar_df = df4[df4['fuel_code'].isin(['12_solar', '12_1_of_which_photovoltaics'])]\n",
    "\n",
    "# assert new_solar_df.value.isna().sum() == 0\n",
    "\n",
    "# df5 = new_solar_df.groupby(['economy', 'year', 'item_code_new'])['value'].subtract().reset_index().assign(fuel_code = '12_x_non_pv_solar').set_index(['economy', 'year']).append(df4)"
   ]
  },
  {
   "cell_type": "code",
   "execution_count": 15,
   "metadata": {},
   "outputs": [],
   "source": [
    "# Before changing ktoe to PJ, remove rows with data in Gwh\n",
    "\n",
    "gwh_to_pj_df = df4[df4['item_code_new'] == '18_electricity_output_in_gwh']\n",
    "everything_else_df = df4[df4['item_code_new'] != '18_electricity_output_in_gwh']\n",
    "\n",
    "gwh_to_pj_conversion = 0.0036\n",
    "\n",
    "# electricity gwh data changed to pj\n",
    " \n",
    "gwh_to_pj_df = gwh_to_pj_df.assign(pj = np.multiply(gwh_to_pj_df['value'], gwh_to_pj_conversion))  \n",
    "gwh_to_pj_df['item_code_new'] = '18_electricity_output_in_pj'\n",
    "\n",
    "gwh_to_pj_df.columns = ['item_code_new', 'value', 'fuel_code', 'pj']\n",
    "gwh_to_pj_df = gwh_to_pj_df[['fuel_code', 'item_code_new', 'pj']]\n",
    "\n",
    "# Change value column (PJs) to 'pj' same as newly created column in dataframe above that converts ktoe to pj\n",
    "everything_else_df.columns = ['item_code_new', 'pj', 'fuel_code']\n",
    "everything_else_df = everything_else_df[['fuel_code', 'item_code_new', 'pj']]"
   ]
  },
  {
   "cell_type": "code",
   "execution_count": 16,
   "metadata": {},
   "outputs": [],
   "source": [
    "# Now append df_pj to gwh_pj_df (so all data is now in PJ)\n",
    "\n",
    "df = everything_else_df.append(gwh_to_pj_df)"
   ]
  },
  {
   "cell_type": "code",
   "execution_count": 17,
   "metadata": {},
   "outputs": [],
   "source": [
    "df_tidy = df.reset_index()"
   ]
  },
  {
   "cell_type": "code",
   "execution_count": 34,
   "metadata": {},
   "outputs": [],
   "source": [
    "# Load correct order of fuel code and item code. Update this csv based on new entries or desired order\n",
    "\n",
    "ordered = pd.read_csv('../../data/order_2018_egeda.csv')\n",
    "# ordered"
   ]
  },
  {
   "cell_type": "markdown",
   "metadata": {},
   "source": [
    "## Reorder fuel code and item code"
   ]
  },
  {
   "cell_type": "code",
   "execution_count": 35,
   "metadata": {},
   "outputs": [],
   "source": [
    "# This grabs the unique values of fuel_code and item_code_new in the order they appear in the original dataframe. It removes 'na' by calling '[:-1]' \n",
    "\n",
    "order1 = list(ordered['fuel_code'].unique())[:-1]\n",
    "order2 = list(ordered['item_code_new'])\n",
    "\n",
    "# Take order defined above and define each of the variables as categorical in that already established order (for the benefit of viewing data later)\n",
    "\n",
    "df_tidy['fuel_code'] = pd.Categorical(df_tidy['fuel_code'], \n",
    "                                      categories = order1, \n",
    "                                      ordered = True)\n",
    "\n",
    "df_tidy['item_code_new'] = pd.Categorical(df_tidy['item_code_new'],\n",
    "                                          categories = order2,\n",
    "                                          ordered = True)"
   ]
  },
  {
   "cell_type": "code",
   "execution_count": 36,
   "metadata": {},
   "outputs": [],
   "source": [
    "df_tidy_sorted = df_tidy.sort_values(['fuel_code', 'item_code_new']).reset_index(drop = True)\n",
    "# df_tidy_sorted[df_tidy_sorted['fuel_code'] == '1_3_subbituminous_coal'] #1_1_3_subbituminous_coal"
   ]
  },
  {
   "cell_type": "markdown",
   "metadata": {},
   "source": [
    "### Now, pivot the tidy dataset to provide it in wide format similar to RawEGEDA (so years are across the top)"
   ]
  },
  {
   "cell_type": "code",
   "execution_count": 37,
   "metadata": {},
   "outputs": [],
   "source": [
    "df_years = df_tidy_sorted.pivot_table(index = ['economy', 'fuel_code', 'item_code_new'], columns = 'year', values = 'pj').reset_index(drop = False)"
   ]
  },
  {
   "cell_type": "code",
   "execution_count": 38,
   "metadata": {},
   "outputs": [],
   "source": [
    "df_years.to_csv(\"../../results/EGEDA_2018_years.csv\", index = False)"
   ]
  },
  {
   "cell_type": "code",
   "execution_count": 39,
   "metadata": {},
   "outputs": [],
   "source": [
    "# df_years.to_excel(\"../../results/EGEDA_2018_years.xlsx\", index = False)"
   ]
  },
  {
   "cell_type": "markdown",
   "metadata": {},
   "source": [
    "## And now pivot so item codes are along the top"
   ]
  },
  {
   "cell_type": "code",
   "execution_count": 40,
   "metadata": {},
   "outputs": [],
   "source": [
    "df_items = df_tidy_sorted\n",
    "df_items['item_code_new'] = df_items['item_code_new'].astype(str)\n",
    "\n",
    "df_items = df_items.pivot_table(index = ['economy', 'fuel_code', 'year'], columns = 'item_code_new', values = 'pj').reset_index()\n",
    "\n",
    "# Reorder columns based on order2 defined above\n",
    "\n",
    "NewOrder = ['economy', 'fuel_code', 'year']\n",
    "NewOrder.extend(order2) \n",
    "\n",
    "df_items = df_items[NewOrder]"
   ]
  },
  {
   "cell_type": "code",
   "execution_count": 41,
   "metadata": {},
   "outputs": [],
   "source": [
    "df_items.to_csv(\"../../results/EGEDA_2018_items.csv\", index = False)"
   ]
  },
  {
   "cell_type": "code",
   "execution_count": 42,
   "metadata": {},
   "outputs": [],
   "source": [
    "# df_items.to_excel(\"../../results/EGEDA_2018_items.xlsx\", index = False)"
   ]
  }
 ],
 "metadata": {
  "kernelspec": {
   "display_name": "Python 3",
   "language": "python",
   "name": "python3"
  },
  "language_info": {
   "codemirror_mode": {
    "name": "ipython",
    "version": 3
   },
   "file_extension": ".py",
   "mimetype": "text/x-python",
   "name": "python",
   "nbconvert_exporter": "python",
   "pygments_lexer": "ipython3",
   "version": "3.7.7-final"
  }
 },
 "nbformat": 4,
 "nbformat_minor": 4
}